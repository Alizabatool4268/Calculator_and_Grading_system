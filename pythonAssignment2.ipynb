{
  "nbformat": 4,
  "nbformat_minor": 0,
  "metadata": {
    "colab": {
      "provenance": [],
      "authorship_tag": "ABX9TyPOH/O4j1eKDM1zUjiAgigb",
      "include_colab_link": true
    },
    "kernelspec": {
      "name": "python3",
      "display_name": "Python 3"
    },
    "language_info": {
      "name": "python"
    }
  },
  "cells": [
    {
      "cell_type": "markdown",
      "metadata": {
        "id": "view-in-github",
        "colab_type": "text"
      },
      "source": [
        "<a href=\"https://colab.research.google.com/github/Alizabatool4268/Calculator_and_Grading_system/blob/main/pythonAssignment2.ipynb\" target=\"_parent\"><img src=\"https://colab.research.google.com/assets/colab-badge.svg\" alt=\"Open In Colab\"/></a>"
      ]
    },
    {
      "cell_type": "markdown",
      "source": [
        "**NAME  : \"ALIZA BATOOL**\n",
        "\n",
        "**CLASS : THURSDAY (9 to 12)**"
      ],
      "metadata": {
        "id": "Qf5kBQ21bxt5"
      }
    },
    {
      "cell_type": "markdown",
      "source": [
        "#**SIMPLE CALCULATOR**\n",
        "\n",
        "Choose among the following operator\n",
        "   1) + (addition)\n",
        "\n",
        "   2) - (substraction)\n",
        "\n",
        "   3) * (multiplication)\n",
        "\n",
        "   4) / (division)\n",
        "\n",
        "   5) ** (exponentation)\n",
        "\n",
        "   6) // (floor division)\n",
        "**Pthon zero error**\n",
        " Handeling pythonZeroError while division because anything divided by zero will give infinity hence breaking the code to .prevent this I put an additional check"
      ],
      "metadata": {
        "id": "h090iw16CRoK"
      }
    },
    {
      "cell_type": "code",
      "execution_count": 53,
      "metadata": {
        "colab": {
          "base_uri": "https://localhost:8080/"
        },
        "id": "maimKHmnbtai",
        "outputId": "7782c010-56b4-4002-b3b1-9777feb40163"
      },
      "outputs": [
        {
          "output_type": "stream",
          "name": "stdout",
          "text": [
            "Enter your first number 22\n",
            "Enter your second number 22\n",
            "Enter your operator: /\n",
            "1.0\n"
          ]
        }
      ],
      "source": [
        "try:\n",
        "   num1:int = int(input(\"Enter your first number \"))\n",
        "   num2:int = int(input(\"Enter your second number \"))\n",
        "    #Valid operators\n",
        "   valid_operators:list = [\"+\" , \"-\" , \"/\" ,\"*\" , \"**\", \"//\"]\n",
        "   operator:str = input(\"Enter your operator: \")\n",
        "   if operator not in valid_operators:\n",
        "     print(\"You are using an invalid operator ❗\")\n",
        "   elif operator == \"+\" :\n",
        "    print(num1 + num2)\n",
        "   elif operator == \"-\" :\n",
        "    print(num1 - num2)\n",
        "   elif operator == \"*\" :\n",
        "    print(num1 * num2)\n",
        "   elif operator == \"**\" :\n",
        "    print(num1 ** num2)\n",
        "    # ZeroErrorCheck\n",
        "   elif operator == \"/\" :\n",
        "      if num2 == 0:\n",
        "       print(\"🔄 Infinity\")\n",
        "      else:\n",
        "       print(num1 / num2)\n",
        "    # ZeroErrorCheck\n",
        "   elif operator == \"//\" :\n",
        "      if num2 == 0:\n",
        "        print(\"🔄 Infinity\")\n",
        "      else:\n",
        "        print(num1 // num2)\n",
        "   else:\n",
        "    print(\"Check your inputs and try again 🤔\")\n",
        "except ValueError:\n",
        "    print(\"🔴 Seems like you are adding inappropirate values🛑\")"
      ]
    },
    {
      "cell_type": "markdown",
      "source": [
        "#**GRADING SYSTEM**\n"
      ],
      "metadata": {
        "id": "TWOc0NtWBL0e"
      }
    },
    {
      "cell_type": "code",
      "source": [
        "try:\n",
        "  percentage:int = int(input(\" Your percentage \"))\n",
        "  if percentage >= 85:\n",
        "    print(\"your grade is A+ | REMARKS:Outstanding\")\n",
        "  elif percentage >=70:\n",
        "    print(\"your grade is A | REMARKS:Awesome\")\n",
        "  elif percentage >=60:\n",
        "    print(\"your grade is B | REMARKS:Good\")\n",
        "  elif percentage >= 50:\n",
        "    print(\"your grade is C | REMARKS:Decent\")\n",
        "  elif percentage >=40:\n",
        "    print(\"your grade is D | REMARKS:Need Effort\")\n",
        "  elif percentage >=35:\n",
        "    print(\"your grade is E | REMARKS:Poor performance\")\n",
        "  else:\n",
        "     print(\"You have failed\")\n",
        "except ValueError:\n",
        "  print(\" The percentage you added is not a valid number format \")"
      ],
      "metadata": {
        "colab": {
          "base_uri": "https://localhost:8080/"
        },
        "id": "oV9Kl1rlBTWD",
        "outputId": "8f6a14f5-98de-49a0-e503-52ca0d85756d"
      },
      "execution_count": 52,
      "outputs": [
        {
          "output_type": "stream",
          "name": "stdout",
          "text": [
            " Your percentage 22\n",
            "You have failed\n"
          ]
        }
      ]
    }
  ]
}